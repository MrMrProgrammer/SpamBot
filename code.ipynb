{
 "cells": [
  {
   "cell_type": "code",
   "execution_count": 7,
   "id": "f6668f63c7ddb42b",
   "metadata": {
    "ExecuteTime": {
     "end_time": "2023-10-05T07:03:41.585399574Z",
     "start_time": "2023-10-05T07:03:41.579409579Z"
    },
    "collapsed": false
   },
   "outputs": [],
   "source": [
    "from selenium import webdriver\n",
    "from selenium.webdriver.common.by import By\n",
    "from selenium.webdriver.chrome.service import Service as ChromeService\n",
    "from webdriver_manager.chrome import ChromeDriverManager\n",
    "from time import sleep"
   ]
  },
  {
   "cell_type": "code",
   "execution_count": 8,
   "id": "7cb636e738c4ee2c",
   "metadata": {
    "ExecuteTime": {
     "end_time": "2023-10-05T07:03:41.754331894Z",
     "start_time": "2023-10-05T07:03:41.751637749Z"
    },
    "collapsed": false
   },
   "outputs": [],
   "source": [
    "username = 'seyed'\n",
    "password = 'a123b456'\n",
    "url = 'http://192.168.11.17/web'"
   ]
  },
  {
   "cell_type": "code",
   "execution_count": 9,
   "id": "87040840d5158e43",
   "metadata": {
    "ExecuteTime": {
     "end_time": "2023-10-05T07:03:50.096144965Z",
     "start_time": "2023-10-05T07:03:41.933413738Z"
    },
    "collapsed": false
   },
   "outputs": [],
   "source": [
    "driver = webdriver.Chrome(service=ChromeService(ChromeDriverManager().install()))\n",
    "\n",
    "driver.get(url)\n",
    "\n",
    "driver.maximize_window()\n",
    "\n",
    "# sleep(3)\n",
    "\n",
    "username_element = driver.find_element(By.NAME, 'username').send_keys(username)\n",
    "\n",
    "password_element = driver.find_element(By.NAME, 'password').send_keys(password)\n",
    "\n",
    "login_element = driver.find_element(By.CLASS_NAME, 'btn').click()\n",
    "\n",
    "sleep(5)\n",
    "\n",
    "driver.quit()"
   ]
  }
 ],
 "metadata": {
  "kernelspec": {
   "display_name": "Python 3",
   "language": "python",
   "name": "python3"
  },
  "language_info": {
   "codemirror_mode": {
    "name": "ipython",
    "version": 3
   },
   "file_extension": ".py",
   "mimetype": "text/x-python",
   "name": "python",
   "nbconvert_exporter": "python",
   "pygments_lexer": "ipython3",
   "version": "3.10.12"
  }
 },
 "nbformat": 4,
 "nbformat_minor": 5
}
